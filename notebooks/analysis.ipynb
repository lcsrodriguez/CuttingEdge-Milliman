{
 "cells": [
  {
   "cell_type": "markdown",
   "id": "436104ec",
   "metadata": {},
   "source": [
    "# Analysis"
   ]
  },
  {
   "cell_type": "code",
   "execution_count": 2,
   "id": "6fcc42c1",
   "metadata": {
    "ExecuteTime": {
     "end_time": "2023-03-25T16:00:18.755512Z",
     "start_time": "2023-03-25T16:00:18.720277Z"
    }
   },
   "outputs": [],
   "source": [
    "import sys, os, ipynbname\n",
    "NOTEBOOK_NAME = f\"{ipynbname.name()}.ipynb\"\n",
    "sys.path.append(os.path.abspath(os.path.join(os.path.dirname(NOTEBOOK_NAME), os.path.pardir)))"
   ]
  },
  {
   "cell_type": "code",
   "execution_count": 3,
   "id": "27ff5cb1",
   "metadata": {
    "ExecuteTime": {
     "end_time": "2023-03-25T16:00:20.481417Z",
     "start_time": "2023-03-25T16:00:19.191689Z"
    }
   },
   "outputs": [],
   "source": [
    "# Main functions\n",
    "from src.Constants import *\n",
    "from src.Utils import *\n",
    "\n",
    "# Model simulation\n",
    "from src.EquityModel import *\n",
    "from src.BlackScholes import *\n",
    "from src.Heston import *\n",
    "\n",
    "from src.RatesModel import *\n",
    "from src.Vasicek import *\n",
    "from src.CIR import *\n",
    "from src.HullWhite import *\n",
    "\n",
    "# Pricing\n",
    "from src.Pricer import *\n",
    "from src.EuropeanPricer import *\n",
    "from src.AsianPricer import *"
   ]
  },
  {
   "cell_type": "markdown",
   "id": "96c080d7",
   "metadata": {},
   "source": [
    "## Distribution of $(S_T)$"
   ]
  },
  {
   "cell_type": "code",
   "execution_count": null,
   "id": "09f0bd72",
   "metadata": {},
   "outputs": [],
   "source": [
    "# TODO"
   ]
  },
  {
   "cell_type": "code",
   "execution_count": null,
   "id": "73d245d5",
   "metadata": {},
   "outputs": [],
   "source": []
  },
  {
   "cell_type": "markdown",
   "id": "533b2d84",
   "metadata": {},
   "source": [
    "## Simulation of the joint distribution $\\Big(\\int_0^T r_u \\mathrm{d}u, S_T\\Big) $"
   ]
  },
  {
   "cell_type": "code",
   "execution_count": null,
   "id": "0ab092e2",
   "metadata": {},
   "outputs": [],
   "source": [
    "# TODO"
   ]
  },
  {
   "cell_type": "code",
   "execution_count": null,
   "id": "8a8e8de3",
   "metadata": {},
   "outputs": [],
   "source": []
  },
  {
   "cell_type": "markdown",
   "id": "ed9d1d33",
   "metadata": {},
   "source": [
    "## Study of parameter effects"
   ]
  },
  {
   "cell_type": "markdown",
   "id": "552d3256",
   "metadata": {},
   "source": [
    "### Black-Scholes & Vasicek"
   ]
  },
  {
   "cell_type": "markdown",
   "id": "bf50c569",
   "metadata": {},
   "source": [
    "**Model parameters**: ...\n",
    "\n",
    "**Simulation parameters**: ...\n",
    "\n",
    "$\\longrightarrow$ Choice of parameters to study: ...\n",
    "\n",
    "\n",
    "- Param 1 $\\kappa \\in \\left[a, b\\right]$ *(possible values)* $\\leadsto$ Studied values:\n",
    "- Param 2\n",
    "- Param 3\n",
    "- ...\n"
   ]
  },
  {
   "cell_type": "code",
   "execution_count": null,
   "id": "154ebc6b",
   "metadata": {},
   "outputs": [],
   "source": []
  },
  {
   "cell_type": "code",
   "execution_count": null,
   "id": "b68dabab",
   "metadata": {},
   "outputs": [],
   "source": [
    "# TODO"
   ]
  },
  {
   "cell_type": "code",
   "execution_count": null,
   "id": "5d6ac7c1",
   "metadata": {},
   "outputs": [],
   "source": []
  },
  {
   "cell_type": "code",
   "execution_count": null,
   "id": "c0d57ae2",
   "metadata": {},
   "outputs": [],
   "source": []
  },
  {
   "cell_type": "markdown",
   "id": "9a2cd52a",
   "metadata": {},
   "source": [
    "### Black-Scholes & CIR"
   ]
  },
  {
   "cell_type": "code",
   "execution_count": null,
   "id": "d2833623",
   "metadata": {},
   "outputs": [],
   "source": [
    "# TODO"
   ]
  },
  {
   "cell_type": "code",
   "execution_count": null,
   "id": "caf94e91",
   "metadata": {},
   "outputs": [],
   "source": []
  },
  {
   "cell_type": "code",
   "execution_count": null,
   "id": "5da28ce6",
   "metadata": {},
   "outputs": [],
   "source": []
  },
  {
   "cell_type": "markdown",
   "id": "d4243844",
   "metadata": {},
   "source": [
    "### Black-Scholes & Hull-White"
   ]
  },
  {
   "cell_type": "code",
   "execution_count": null,
   "id": "21840627",
   "metadata": {},
   "outputs": [],
   "source": [
    "# TODO"
   ]
  },
  {
   "cell_type": "code",
   "execution_count": null,
   "id": "cbd891d8",
   "metadata": {},
   "outputs": [],
   "source": []
  },
  {
   "cell_type": "code",
   "execution_count": null,
   "id": "ccc5347f",
   "metadata": {},
   "outputs": [],
   "source": []
  },
  {
   "cell_type": "markdown",
   "id": "086df17d",
   "metadata": {},
   "source": [
    "### Heston & Vasicek"
   ]
  },
  {
   "cell_type": "code",
   "execution_count": null,
   "id": "d8ae657d",
   "metadata": {},
   "outputs": [],
   "source": [
    "# TODO"
   ]
  },
  {
   "cell_type": "code",
   "execution_count": null,
   "id": "e3da2855",
   "metadata": {},
   "outputs": [],
   "source": []
  },
  {
   "cell_type": "code",
   "execution_count": null,
   "id": "0daf1226",
   "metadata": {},
   "outputs": [],
   "source": []
  }
 ],
 "metadata": {
  "kernelspec": {
   "display_name": "Python 3 (ipykernel)",
   "language": "python",
   "name": "python3"
  },
  "language_info": {
   "codemirror_mode": {
    "name": "ipython",
    "version": 3
   },
   "file_extension": ".py",
   "mimetype": "text/x-python",
   "name": "python",
   "nbconvert_exporter": "python",
   "pygments_lexer": "ipython3",
   "version": "3.10.6"
  },
  "toc": {
   "base_numbering": 1,
   "nav_menu": {},
   "number_sections": true,
   "sideBar": true,
   "skip_h1_title": false,
   "title_cell": "Table of Contents",
   "title_sidebar": "Contents",
   "toc_cell": false,
   "toc_position": {},
   "toc_section_display": true,
   "toc_window_display": false
  }
 },
 "nbformat": 4,
 "nbformat_minor": 5
}
