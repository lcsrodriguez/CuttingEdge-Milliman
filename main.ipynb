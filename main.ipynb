{
 "cells": [
  {
   "cell_type": "markdown",
   "id": "69268d03",
   "metadata": {},
   "source": [
    "# Cutting-Edge project - Milliman\n",
    "\n",
    "\n",
    "*February 2023 - Present*"
   ]
  },
  {
   "cell_type": "code",
   "execution_count": 3,
   "id": "9599392a",
   "metadata": {
    "ExecuteTime": {
     "end_time": "2023-02-22T18:13:47.045225Z",
     "start_time": "2023-02-22T18:13:47.040327Z"
    }
   },
   "outputs": [],
   "source": [
    "import numpy as np\n",
    "import time"
   ]
  },
  {
   "cell_type": "markdown",
   "id": "c0b5ae28",
   "metadata": {},
   "source": [
    "## Interest rates modelling"
   ]
  },
  {
   "cell_type": "markdown",
   "id": "8cefa060",
   "metadata": {},
   "source": [
    "### Vasicek"
   ]
  },
  {
   "cell_type": "code",
   "execution_count": null,
   "id": "7384b0ed",
   "metadata": {},
   "outputs": [],
   "source": [
    "# Vasicek (closed formula)"
   ]
  },
  {
   "cell_type": "code",
   "execution_count": null,
   "id": "b11ab939",
   "metadata": {},
   "outputs": [],
   "source": [
    "# Vasicek (Euler)"
   ]
  },
  {
   "cell_type": "code",
   "execution_count": 2,
   "id": "99f7d4dd",
   "metadata": {
    "ExecuteTime": {
     "end_time": "2023-02-22T18:09:56.456982Z",
     "start_time": "2023-02-22T18:09:56.452896Z"
    }
   },
   "outputs": [],
   "source": [
    "# Vasicek (Milstein)"
   ]
  },
  {
   "cell_type": "code",
   "execution_count": null,
   "id": "8ec54f59",
   "metadata": {},
   "outputs": [],
   "source": [
    "# Normality test (Shapiro-Wilk + Jarque-Bera)"
   ]
  },
  {
   "cell_type": "markdown",
   "id": "48dd5c44",
   "metadata": {},
   "source": [
    "## Equity modelling"
   ]
  },
  {
   "cell_type": "markdown",
   "id": "08525d10",
   "metadata": {},
   "source": [
    "### Black-Scholes model $\\diamond$ <span style=\"background:red; color:white; padding: 2px 6px\">Constant drift/constant volatility</span>"
   ]
  },
  {
   "cell_type": "code",
   "execution_count": null,
   "id": "5fe6f951",
   "metadata": {},
   "outputs": [],
   "source": []
  },
  {
   "cell_type": "markdown",
   "id": "44d824e7",
   "metadata": {},
   "source": [
    "### Black-Scholes model $\\diamond$ <span style=\"background:red; color:white; padding: 2px 6px\">Time-varying drift/constant volatility</span>"
   ]
  },
  {
   "cell_type": "code",
   "execution_count": null,
   "id": "eeb0dbab",
   "metadata": {},
   "outputs": [],
   "source": []
  },
  {
   "cell_type": "code",
   "execution_count": null,
   "id": "5b942b89",
   "metadata": {},
   "outputs": [],
   "source": []
  },
  {
   "cell_type": "markdown",
   "id": "a6e8517c",
   "metadata": {},
   "source": [
    "## Analysis"
   ]
  },
  {
   "cell_type": "code",
   "execution_count": null,
   "id": "e4476925",
   "metadata": {},
   "outputs": [],
   "source": [
    "    "
   ]
  },
  {
   "cell_type": "code",
   "execution_count": null,
   "id": "548f3be1",
   "metadata": {},
   "outputs": [],
   "source": []
  },
  {
   "cell_type": "code",
   "execution_count": null,
   "id": "b557c168",
   "metadata": {},
   "outputs": [],
   "source": []
  }
 ],
 "metadata": {
  "kernelspec": {
   "display_name": "Python 3 (ipykernel)",
   "language": "python",
   "name": "python3"
  },
  "language_info": {
   "codemirror_mode": {
    "name": "ipython",
    "version": 3
   },
   "file_extension": ".py",
   "mimetype": "text/x-python",
   "name": "python",
   "nbconvert_exporter": "python",
   "pygments_lexer": "ipython3",
   "version": "3.10.6"
  },
  "toc": {
   "base_numbering": 1,
   "nav_menu": {},
   "number_sections": true,
   "sideBar": true,
   "skip_h1_title": false,
   "title_cell": "Table of Contents",
   "title_sidebar": "Contents",
   "toc_cell": false,
   "toc_position": {},
   "toc_section_display": true,
   "toc_window_display": false
  }
 },
 "nbformat": 4,
 "nbformat_minor": 5
}
