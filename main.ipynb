{
 "cells": [
  {
   "cell_type": "markdown",
   "id": "59e6d997",
   "metadata": {},
   "source": [
    "# Cutting-Edge project - Milliman\n",
    "\n",
    "\n",
    "- Members: **Amal BACHA - Dalia BARBI - Khalil BATTIKH - Lucas RODRIGUEZ - Naïm SOUNI**\n",
    "- Group 2\n",
    "- Professional partner: **[Milliman](https://www.milliman.com/en/)**\n",
    "\n",
    "*January 2023 - Present*\n",
    "\n",
    "---"
   ]
  },
  {
   "cell_type": "code",
   "execution_count": 5,
   "id": "66a6070c",
   "metadata": {
    "ExecuteTime": {
     "end_time": "2023-02-22T18:21:22.120451Z",
     "start_time": "2023-02-22T18:21:22.110994Z"
    }
   },
   "outputs": [],
   "source": [
    "import numpy as np\n",
    "import numpy.random as npr\n",
    "import time\n",
    "import warnings\n",
    "\n",
    "# Silencing all warnings for a better UX\n",
    "warnings.filterwarnings(\"ignore\")\n",
    "\n",
    "# Setting up a fixed random seed for experiment purposes\n",
    "npr.seed(1)"
   ]
  },
  {
   "cell_type": "markdown",
   "id": "96cad0b2",
   "metadata": {},
   "source": [
    "## Interest rates modelling"
   ]
  },
  {
   "cell_type": "markdown",
   "id": "0d040386",
   "metadata": {},
   "source": [
    "### Vasicek"
   ]
  },
  {
   "cell_type": "code",
   "execution_count": null,
   "id": "98e6f442",
   "metadata": {},
   "outputs": [],
   "source": [
    "# Vasicek (closed formula)"
   ]
  },
  {
   "cell_type": "code",
   "execution_count": null,
   "id": "0601722f",
   "metadata": {},
   "outputs": [],
   "source": [
    "# Vasicek (Euler)"
   ]
  },
  {
   "cell_type": "code",
   "execution_count": 2,
   "id": "eb5fe91a",
   "metadata": {
    "ExecuteTime": {
     "end_time": "2023-02-22T18:09:56.456982Z",
     "start_time": "2023-02-22T18:09:56.452896Z"
    }
   },
   "outputs": [],
   "source": [
    "# Vasicek (Milstein)"
   ]
  },
  {
   "cell_type": "code",
   "execution_count": 6,
   "id": "676aaefb",
   "metadata": {
    "ExecuteTime": {
     "end_time": "2023-02-22T18:24:48.788908Z",
     "start_time": "2023-02-22T18:24:48.783650Z"
    }
   },
   "outputs": [],
   "source": [
    "# Normality test (Shapiro-Wilk + Jarque-Bera) (for verification purposes)"
   ]
  },
  {
   "cell_type": "markdown",
   "id": "93e14ad5",
   "metadata": {},
   "source": [
    "## Equity modelling"
   ]
  },
  {
   "cell_type": "markdown",
   "id": "facd7673",
   "metadata": {},
   "source": [
    "### Black-Scholes model $\\diamond$ <span style=\"background:red; color:white; padding: 2px 6px\">Constant drift/Constant volatility</span>"
   ]
  },
  {
   "cell_type": "code",
   "execution_count": null,
   "id": "80c8444b",
   "metadata": {},
   "outputs": [],
   "source": []
  },
  {
   "cell_type": "code",
   "execution_count": null,
   "id": "16578596",
   "metadata": {},
   "outputs": [],
   "source": []
  },
  {
   "cell_type": "markdown",
   "id": "0a47f8c5",
   "metadata": {},
   "source": [
    "### Black-Scholes model $\\diamond$ <span style=\"background:red; color:white; padding: 2px 6px\">Time-varying drift/Constant volatility</span>"
   ]
  },
  {
   "cell_type": "code",
   "execution_count": null,
   "id": "645ff44f",
   "metadata": {},
   "outputs": [],
   "source": []
  },
  {
   "cell_type": "code",
   "execution_count": null,
   "id": "a3f6aa49",
   "metadata": {},
   "outputs": [],
   "source": []
  },
  {
   "cell_type": "markdown",
   "id": "90d468ea",
   "metadata": {},
   "source": [
    "### Black-Scholes model $\\diamond$ <span style=\"background:red; color:white; padding: 2px 6px\">Time-varying drift/Time-varying volatility</span>"
   ]
  },
  {
   "cell_type": "code",
   "execution_count": null,
   "id": "a6ee1818",
   "metadata": {},
   "outputs": [],
   "source": []
  },
  {
   "cell_type": "code",
   "execution_count": null,
   "id": "ddeb185b",
   "metadata": {},
   "outputs": [],
   "source": []
  },
  {
   "cell_type": "markdown",
   "id": "62f901c0",
   "metadata": {},
   "source": [
    "## Analysis"
   ]
  },
  {
   "cell_type": "markdown",
   "id": "a69f93a6",
   "metadata": {},
   "source": [
    "### Distribution of $S_T$"
   ]
  },
  {
   "cell_type": "code",
   "execution_count": null,
   "id": "8df5789f",
   "metadata": {},
   "outputs": [],
   "source": []
  },
  {
   "cell_type": "markdown",
   "id": "9daf6ed7",
   "metadata": {},
   "source": [
    "### Computation of derivatives price"
   ]
  },
  {
   "cell_type": "code",
   "execution_count": null,
   "id": "66d28f28",
   "metadata": {},
   "outputs": [],
   "source": []
  },
  {
   "cell_type": "markdown",
   "id": "96d461de",
   "metadata": {},
   "source": [
    "## Miscellaneous"
   ]
  },
  {
   "cell_type": "markdown",
   "id": "06bad229",
   "metadata": {},
   "source": [
    "### Simulation of the joint distribution $\\Big(\\int_0^T r_u \\mathrm{d}u, S_T\\Big) $"
   ]
  },
  {
   "cell_type": "code",
   "execution_count": null,
   "id": "6850f50f",
   "metadata": {},
   "outputs": [],
   "source": []
  },
  {
   "cell_type": "markdown",
   "id": "fd9c1baa",
   "metadata": {},
   "source": [
    "### Model refinement $\\longrightarrow$ Constant to time-varying parameters"
   ]
  },
  {
   "cell_type": "markdown",
   "id": "cc539b97",
   "metadata": {},
   "source": [
    "#### <u>Interest rates dynamics</u> $\\leadsto$ <span style=\"background:gray; color:white; padding: 2px 6px\">$t \\longmapsto \\theta(t)$ instead of $\\theta \\in \\mathbb{R}^+$</span>"
   ]
  },
  {
   "cell_type": "code",
   "execution_count": null,
   "id": "da41d766",
   "metadata": {},
   "outputs": [],
   "source": []
  },
  {
   "cell_type": "markdown",
   "id": "72c76733",
   "metadata": {},
   "source": [
    "#### <u>Equity index dynamics</u> $\\leadsto$ <span style=\"background:gray; color:white; padding: 2px 6px\">$t \\longmapsto \\sigma(t)$ instead of $\\sigma \\in \\mathbb{R}^+$</span>"
   ]
  },
  {
   "cell_type": "code",
   "execution_count": null,
   "id": "278aa803",
   "metadata": {},
   "outputs": [],
   "source": []
  },
  {
   "cell_type": "markdown",
   "id": "6b174503",
   "metadata": {},
   "source": [
    "---\n",
    "**Amal BACHA - Dalia BARBI - Khalil BATTIKH - Lucas RODRIGUEZ - Naïm SOUNI**\n"
   ]
  }
 ],
 "metadata": {
  "kernelspec": {
   "display_name": "Python 3 (ipykernel)",
   "language": "python",
   "name": "python3"
  },
  "language_info": {
   "codemirror_mode": {
    "name": "ipython",
    "version": 3
   },
   "file_extension": ".py",
   "mimetype": "text/x-python",
   "name": "python",
   "nbconvert_exporter": "python",
   "pygments_lexer": "ipython3",
   "version": "3.10.6"
  },
  "toc": {
   "base_numbering": 1,
   "nav_menu": {},
   "number_sections": true,
   "sideBar": true,
   "skip_h1_title": false,
   "title_cell": "Table of Contents",
   "title_sidebar": "Contents",
   "toc_cell": false,
   "toc_position": {},
   "toc_section_display": true,
   "toc_window_display": false
  }
 },
 "nbformat": 4,
 "nbformat_minor": 5
}
