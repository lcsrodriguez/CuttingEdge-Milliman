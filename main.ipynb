{
 "cells": [
  {
   "cell_type": "markdown",
   "id": "58885042",
   "metadata": {},
   "source": [
    "# Cutting-Edge project - Milliman\n",
    "\n",
    "\n",
    "- Members: **Amal BACHA - Dalia BARBI - Khalil BATTIKH - Lucas RODRIGUEZ - Naïm SOUNI**\n",
    "- Group 2\n",
    "- Professional partner: **[Milliman](https://www.milliman.com/en/)**\n",
    "\n",
    "*January 2023 - Present*\n",
    "\n",
    "---"
   ]
  },
  {
   "cell_type": "code",
   "execution_count": 9,
   "id": "35955063",
   "metadata": {
    "ExecuteTime": {
     "end_time": "2023-02-22T18:56:22.677973Z",
     "start_time": "2023-02-22T18:56:22.672117Z"
    }
   },
   "outputs": [],
   "source": [
    "import numpy as np\n",
    "import numpy.random as npr\n",
    "import time\n",
    "import warnings\n",
    "import scipy\n",
    "\n",
    "# Silencing all warnings for a better UX\n",
    "warnings.filterwarnings(\"ignore\")\n",
    "\n",
    "# Setting up a fixed random seed for experiment purposes\n",
    "npr.seed(1)"
   ]
  },
  {
   "cell_type": "markdown",
   "id": "40de9a9a",
   "metadata": {},
   "source": [
    "## Interest rates modelling"
   ]
  },
  {
   "cell_type": "markdown",
   "id": "56d2a127",
   "metadata": {},
   "source": [
    "### Vasicek"
   ]
  },
  {
   "cell_type": "code",
   "execution_count": 27,
   "id": "75be8f9f",
   "metadata": {
    "ExecuteTime": {
     "end_time": "2023-02-22T19:19:23.593438Z",
     "start_time": "2023-02-22T19:19:23.587277Z"
    }
   },
   "outputs": [],
   "source": [
    "class VasicekModel:\n",
    "    def __init__(self, kappa: float, theta: float, eta: float) -> None:\n",
    "        \"\"\"\n",
    "        Default constructor in order to verify the validity of the parameters, and store them\n",
    "        \"\"\"\n",
    "        self.kappa = kappa\n",
    "        self.theta = theta\n",
    "        self.eta = eta"
   ]
  },
  {
   "cell_type": "code",
   "execution_count": 40,
   "id": "0d341309",
   "metadata": {
    "ExecuteTime": {
     "end_time": "2023-02-22T19:21:20.252307Z",
     "start_time": "2023-02-22T19:21:20.248814Z"
    }
   },
   "outputs": [],
   "source": [
    "# Default Vasicek model\n",
    "dftVasicek = VasicekModel(1, 2, 3)"
   ]
  },
  {
   "cell_type": "code",
   "execution_count": 34,
   "id": "c45266f3",
   "metadata": {
    "ExecuteTime": {
     "end_time": "2023-02-22T19:20:04.082656Z",
     "start_time": "2023-02-22T19:20:04.078141Z"
    }
   },
   "outputs": [],
   "source": [
    "# Vasicek (closed formula)\n",
    "\n",
    "def sim_rates_vasicek_exact(m: VasicekModel = dftVasicek) -> np.ndarray:\n",
    "    \"\"\"  \n",
    "    \"\"\"\n",
    "    pass"
   ]
  },
  {
   "cell_type": "code",
   "execution_count": 39,
   "id": "f495c298",
   "metadata": {
    "ExecuteTime": {
     "end_time": "2023-02-22T19:21:15.207948Z",
     "start_time": "2023-02-22T19:21:15.202929Z"
    }
   },
   "outputs": [],
   "source": [
    "# Vasicek (Euler)\n",
    "\n",
    "def sim_rates_vasicek_euler(m: VasicekModel = dftVasicek,\n",
    "                            n: int = 10000) -> np.ndarray:\n",
    "    \"\"\"\n",
    "    \"\"\"\n",
    "    pass"
   ]
  },
  {
   "cell_type": "code",
   "execution_count": 36,
   "id": "39950684",
   "metadata": {
    "ExecuteTime": {
     "end_time": "2023-02-22T19:20:32.651064Z",
     "start_time": "2023-02-22T19:20:32.645589Z"
    }
   },
   "outputs": [],
   "source": [
    "# Vasicek (Milstein)\n",
    "\n",
    "def sim_rates_vasicek_milstein(m: VasicekModel = dftVasicek) -> np.ndarray:\n",
    "    \"\"\"\n",
    "    \"\"\"\n",
    "    pass"
   ]
  },
  {
   "cell_type": "code",
   "execution_count": 16,
   "id": "badede54",
   "metadata": {
    "ExecuteTime": {
     "end_time": "2023-02-22T19:07:17.248401Z",
     "start_time": "2023-02-22T19:07:17.244610Z"
    }
   },
   "outputs": [],
   "source": [
    "# Normality test (Shapiro-Wilk + Jarque-Bera)\n",
    "TEST_THRESHOLD_ALPHA = 5e-2 # Threshold for p-value\n",
    "\n",
    "# Definition of normality tests (Shapiro-Wilf + Jarque-Bera)\n",
    "normtest_shapiro = lambda x: scipy.stats.shapiro(x).pvalue > TEST_THRESHOLD_ALPHA \n",
    "normtest_jarquebera = lambda x:scipy.stats.jarque_bera(x).pvalue > TEST_THRESHOLD_ALPHA"
   ]
  },
  {
   "cell_type": "markdown",
   "id": "08085fc3",
   "metadata": {},
   "source": [
    "### Cox-Ingersoll-Ross (CIR)"
   ]
  },
  {
   "cell_type": "code",
   "execution_count": null,
   "id": "e1404837",
   "metadata": {},
   "outputs": [],
   "source": []
  },
  {
   "cell_type": "markdown",
   "id": "8fde6598",
   "metadata": {},
   "source": [
    "### Hull & White (HW) $\\diamond$ Extended Vasicek"
   ]
  },
  {
   "cell_type": "code",
   "execution_count": null,
   "id": "e91e93a5",
   "metadata": {},
   "outputs": [],
   "source": []
  },
  {
   "cell_type": "markdown",
   "id": "a25fec96",
   "metadata": {},
   "source": [
    "## Equity modelling"
   ]
  },
  {
   "cell_type": "markdown",
   "id": "279a70a8",
   "metadata": {},
   "source": [
    "### Black-Scholes model $\\diamond$ <span style=\"background:red; color:white; padding: 2px 6px\">Constant drift/Constant volatility</span>"
   ]
  },
  {
   "cell_type": "code",
   "execution_count": null,
   "id": "c61c855c",
   "metadata": {},
   "outputs": [],
   "source": []
  },
  {
   "cell_type": "code",
   "execution_count": null,
   "id": "45e59ab5",
   "metadata": {},
   "outputs": [],
   "source": []
  },
  {
   "cell_type": "markdown",
   "id": "05db3a2c",
   "metadata": {},
   "source": [
    "### Black-Scholes model $\\diamond$ <span style=\"background:red; color:white; padding: 2px 6px\">Time-varying drift/Constant volatility</span>"
   ]
  },
  {
   "cell_type": "code",
   "execution_count": null,
   "id": "5ca69428",
   "metadata": {},
   "outputs": [],
   "source": []
  },
  {
   "cell_type": "code",
   "execution_count": null,
   "id": "d7ea7342",
   "metadata": {},
   "outputs": [],
   "source": []
  },
  {
   "cell_type": "markdown",
   "id": "353cb7f1",
   "metadata": {},
   "source": [
    "### Black-Scholes model $\\diamond$ <span style=\"background:red; color:white; padding: 2px 6px\">Time-varying drift/Time-varying volatility</span>"
   ]
  },
  {
   "cell_type": "code",
   "execution_count": null,
   "id": "840b9a82",
   "metadata": {},
   "outputs": [],
   "source": []
  },
  {
   "cell_type": "code",
   "execution_count": null,
   "id": "dc886d14",
   "metadata": {},
   "outputs": [],
   "source": []
  },
  {
   "cell_type": "markdown",
   "id": "cb7419a6",
   "metadata": {},
   "source": [
    "## Analysis"
   ]
  },
  {
   "cell_type": "markdown",
   "id": "bd70f3cc",
   "metadata": {},
   "source": [
    "### Distribution of $S_T$"
   ]
  },
  {
   "cell_type": "code",
   "execution_count": null,
   "id": "b5bd562e",
   "metadata": {},
   "outputs": [],
   "source": []
  },
  {
   "cell_type": "markdown",
   "id": "aa3aaaf9",
   "metadata": {},
   "source": [
    "### Computation of derivatives price"
   ]
  },
  {
   "cell_type": "code",
   "execution_count": null,
   "id": "e37f544f",
   "metadata": {},
   "outputs": [],
   "source": []
  },
  {
   "cell_type": "markdown",
   "id": "ebca96fe",
   "metadata": {},
   "source": [
    "## Miscellaneous"
   ]
  },
  {
   "cell_type": "markdown",
   "id": "e7333079",
   "metadata": {},
   "source": [
    "### Simulation of the joint distribution $\\Big(\\int_0^T r_u \\mathrm{d}u, S_T\\Big) $"
   ]
  },
  {
   "cell_type": "code",
   "execution_count": null,
   "id": "9dde945f",
   "metadata": {},
   "outputs": [],
   "source": []
  },
  {
   "cell_type": "markdown",
   "id": "df14fc20",
   "metadata": {},
   "source": [
    "### Model refinement $\\longrightarrow$ Constant to time-varying parameters"
   ]
  },
  {
   "cell_type": "markdown",
   "id": "6517ec23",
   "metadata": {},
   "source": [
    "#### <u>Interest rates dynamics</u> $\\leadsto$ <span style=\"background:gray; color:white; padding: 2px 6px\">$t \\longmapsto \\theta(t)$ instead of $\\theta \\in \\mathbb{R}^+$</span>"
   ]
  },
  {
   "cell_type": "code",
   "execution_count": null,
   "id": "9702e84d",
   "metadata": {},
   "outputs": [],
   "source": []
  },
  {
   "cell_type": "markdown",
   "id": "ce1fa033",
   "metadata": {},
   "source": [
    "#### <u>Equity index dynamics</u> $\\leadsto$ <span style=\"background:gray; color:white; padding: 2px 6px\">$t \\longmapsto \\sigma(t)$ instead of $\\sigma \\in \\mathbb{R}^+$</span>"
   ]
  },
  {
   "cell_type": "code",
   "execution_count": null,
   "id": "061f9d93",
   "metadata": {},
   "outputs": [],
   "source": []
  },
  {
   "cell_type": "markdown",
   "id": "60f22f9c",
   "metadata": {},
   "source": [
    "---\n",
    "**Amal BACHA - Dalia BARBI - Khalil BATTIKH - Lucas RODRIGUEZ - Naïm SOUNI**\n"
   ]
  }
 ],
 "metadata": {
  "kernelspec": {
   "display_name": "Python 3 (ipykernel)",
   "language": "python",
   "name": "python3"
  },
  "language_info": {
   "codemirror_mode": {
    "name": "ipython",
    "version": 3
   },
   "file_extension": ".py",
   "mimetype": "text/x-python",
   "name": "python",
   "nbconvert_exporter": "python",
   "pygments_lexer": "ipython3",
   "version": "3.10.6"
  },
  "toc": {
   "base_numbering": 1,
   "nav_menu": {},
   "number_sections": true,
   "sideBar": true,
   "skip_h1_title": false,
   "title_cell": "Table of Contents",
   "title_sidebar": "Contents",
   "toc_cell": false,
   "toc_position": {},
   "toc_section_display": true,
   "toc_window_display": false
  }
 },
 "nbformat": 4,
 "nbformat_minor": 5
}
