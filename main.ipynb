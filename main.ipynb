{
 "cells": [
  {
   "cell_type": "markdown",
   "id": "77267aa9",
   "metadata": {},
   "source": [
    "# Cutting-Edge project - Milliman\n",
    "\n",
    "\n",
    "- Members: **Amal BACHA - Dalia BARBI - Khalil BATTIKH - Lucas RODRIGUEZ - Naïm SOUNI**\n",
    "- Group 2\n",
    "- Professional partner: **[Milliman](https://www.milliman.com/en/)**\n",
    "\n",
    "*January 2023 - Present*\n",
    "\n",
    "---"
   ]
  },
  {
   "cell_type": "code",
   "execution_count": 9,
   "id": "1e8cfb2d",
   "metadata": {
    "ExecuteTime": {
     "end_time": "2023-02-22T18:56:22.677973Z",
     "start_time": "2023-02-22T18:56:22.672117Z"
    }
   },
   "outputs": [],
   "source": [
    "import numpy as np\n",
    "import numpy.random as npr\n",
    "import time\n",
    "import warnings\n",
    "import scipy\n",
    "\n",
    "# Silencing all warnings for a better UX\n",
    "warnings.filterwarnings(\"ignore\")\n",
    "\n",
    "# Setting up a fixed random seed for experiment purposes\n",
    "npr.seed(1)"
   ]
  },
  {
   "cell_type": "markdown",
   "id": "2ab1556e",
   "metadata": {},
   "source": [
    "## Interest rates modelling"
   ]
  },
  {
   "cell_type": "markdown",
   "id": "1420fcd1",
   "metadata": {},
   "source": [
    "### Vasicek"
   ]
  },
  {
   "cell_type": "code",
   "execution_count": 27,
   "id": "6068b133",
   "metadata": {
    "ExecuteTime": {
     "end_time": "2023-02-22T19:19:23.593438Z",
     "start_time": "2023-02-22T19:19:23.587277Z"
    }
   },
   "outputs": [],
   "source": [
    "class VasicekModel:\n",
    "    def __init__(self, kappa: float, theta: float, eta: float) -> None:\n",
    "        \"\"\"\n",
    "        Default constructor in order to verify the validity of the parameters, and store them\n",
    "        \"\"\"\n",
    "        # Verification\n",
    "        assert kappa > 0\n",
    "        \n",
    "        # Storing variable\n",
    "        self.kappa = kappa\n",
    "        self.theta = theta\n",
    "        self.eta = eta"
   ]
  },
  {
   "cell_type": "code",
   "execution_count": 41,
   "id": "57143608",
   "metadata": {
    "ExecuteTime": {
     "end_time": "2023-02-22T19:23:32.320774Z",
     "start_time": "2023-02-22T19:23:32.316398Z"
    }
   },
   "outputs": [],
   "source": [
    "# Default Vasicek model\n",
    "dftVasicek = VasicekModel(1, 2, 3)\n",
    "_MAX_STEPS = 1e5"
   ]
  },
  {
   "cell_type": "code",
   "execution_count": 42,
   "id": "5cedfae1",
   "metadata": {
    "ExecuteTime": {
     "end_time": "2023-02-22T19:23:33.286363Z",
     "start_time": "2023-02-22T19:23:33.280988Z"
    }
   },
   "outputs": [],
   "source": [
    "# Vasicek (closed formula)\n",
    "\n",
    "def sim_rates_vasicek_exact(m: VasicekModel = dftVasicek) -> np.ndarray:\n",
    "    \"\"\"  \n",
    "    \"\"\"\n",
    "    pass"
   ]
  },
  {
   "cell_type": "code",
   "execution_count": 43,
   "id": "9d6159c7",
   "metadata": {
    "ExecuteTime": {
     "end_time": "2023-02-22T19:23:33.603146Z",
     "start_time": "2023-02-22T19:23:33.598404Z"
    }
   },
   "outputs": [],
   "source": [
    "# Vasicek (Euler)\n",
    "\n",
    "def sim_rates_vasicek_euler(m: VasicekModel = dftVasicek,\n",
    "                            n: int = _MAX_STEPS) -> np.ndarray:\n",
    "    \"\"\"\n",
    "    \"\"\"\n",
    "    pass"
   ]
  },
  {
   "cell_type": "code",
   "execution_count": 44,
   "id": "7c70890f",
   "metadata": {
    "ExecuteTime": {
     "end_time": "2023-02-22T19:23:34.035659Z",
     "start_time": "2023-02-22T19:23:34.031355Z"
    }
   },
   "outputs": [],
   "source": [
    "# Vasicek (Milstein)\n",
    "\n",
    "def sim_rates_vasicek_milstein(m: VasicekModel = dftVasicek,\n",
    "                               n: int = _MAX_STEPS) -> np.ndarray:\n",
    "    \"\"\"\n",
    "    \"\"\"\n",
    "    pass"
   ]
  },
  {
   "cell_type": "code",
   "execution_count": 16,
   "id": "ec732143",
   "metadata": {
    "ExecuteTime": {
     "end_time": "2023-02-22T19:07:17.248401Z",
     "start_time": "2023-02-22T19:07:17.244610Z"
    }
   },
   "outputs": [],
   "source": [
    "# Normality test (Shapiro-Wilk + Jarque-Bera)\n",
    "TEST_THRESHOLD_ALPHA = 5e-2 # Threshold for p-value\n",
    "\n",
    "# Definition of normality tests (Shapiro-Wilf + Jarque-Bera)\n",
    "normtest_shapiro = lambda x: scipy.stats.shapiro(x).pvalue > TEST_THRESHOLD_ALPHA \n",
    "normtest_jarquebera = lambda x:scipy.stats.jarque_bera(x).pvalue > TEST_THRESHOLD_ALPHA"
   ]
  },
  {
   "cell_type": "markdown",
   "id": "13ee52ef",
   "metadata": {},
   "source": [
    "### Cox-Ingersoll-Ross (CIR)"
   ]
  },
  {
   "cell_type": "code",
   "execution_count": null,
   "id": "b418c342",
   "metadata": {},
   "outputs": [],
   "source": []
  },
  {
   "cell_type": "markdown",
   "id": "c75fc31a",
   "metadata": {},
   "source": [
    "### Hull & White (HW) $\\diamond$ Extended Vasicek"
   ]
  },
  {
   "cell_type": "code",
   "execution_count": null,
   "id": "b47531e2",
   "metadata": {},
   "outputs": [],
   "source": []
  },
  {
   "cell_type": "markdown",
   "id": "f36c39d9",
   "metadata": {},
   "source": [
    "## Equity modelling"
   ]
  },
  {
   "cell_type": "markdown",
   "id": "eedc7a25",
   "metadata": {},
   "source": [
    "### Black-Scholes model $\\diamond$ <span style=\"background:red; color:white; padding: 2px 6px\">Constant drift/Constant volatility</span>"
   ]
  },
  {
   "cell_type": "code",
   "execution_count": null,
   "id": "339cffde",
   "metadata": {},
   "outputs": [],
   "source": []
  },
  {
   "cell_type": "code",
   "execution_count": null,
   "id": "1fd198e4",
   "metadata": {},
   "outputs": [],
   "source": []
  },
  {
   "cell_type": "markdown",
   "id": "7e888592",
   "metadata": {},
   "source": [
    "### Black-Scholes model $\\diamond$ <span style=\"background:red; color:white; padding: 2px 6px\">Time-varying drift/Constant volatility</span>"
   ]
  },
  {
   "cell_type": "code",
   "execution_count": null,
   "id": "04969b6c",
   "metadata": {},
   "outputs": [],
   "source": []
  },
  {
   "cell_type": "code",
   "execution_count": null,
   "id": "74b8f79c",
   "metadata": {},
   "outputs": [],
   "source": []
  },
  {
   "cell_type": "markdown",
   "id": "747eafb7",
   "metadata": {},
   "source": [
    "### Black-Scholes model $\\diamond$ <span style=\"background:red; color:white; padding: 2px 6px\">Time-varying drift/Time-varying volatility</span>"
   ]
  },
  {
   "cell_type": "code",
   "execution_count": null,
   "id": "e2e73929",
   "metadata": {},
   "outputs": [],
   "source": []
  },
  {
   "cell_type": "code",
   "execution_count": null,
   "id": "af48bf37",
   "metadata": {},
   "outputs": [],
   "source": []
  },
  {
   "cell_type": "markdown",
   "id": "a0c9f3d2",
   "metadata": {},
   "source": [
    "## Analysis"
   ]
  },
  {
   "cell_type": "markdown",
   "id": "e10fc959",
   "metadata": {},
   "source": [
    "### Distribution of $S_T$"
   ]
  },
  {
   "cell_type": "code",
   "execution_count": null,
   "id": "7241295f",
   "metadata": {},
   "outputs": [],
   "source": []
  },
  {
   "cell_type": "markdown",
   "id": "c8d281c4",
   "metadata": {},
   "source": [
    "### Computation of derivatives price"
   ]
  },
  {
   "cell_type": "code",
   "execution_count": null,
   "id": "3f0cea41",
   "metadata": {},
   "outputs": [],
   "source": []
  },
  {
   "cell_type": "markdown",
   "id": "30a00468",
   "metadata": {},
   "source": [
    "## Miscellaneous"
   ]
  },
  {
   "cell_type": "markdown",
   "id": "60952bf8",
   "metadata": {},
   "source": [
    "### Simulation of the joint distribution $\\Big(\\int_0^T r_u \\mathrm{d}u, S_T\\Big) $"
   ]
  },
  {
   "cell_type": "code",
   "execution_count": null,
   "id": "1a5bb7b0",
   "metadata": {},
   "outputs": [],
   "source": []
  },
  {
   "cell_type": "markdown",
   "id": "e310f8da",
   "metadata": {},
   "source": [
    "### Model refinement $\\longrightarrow$ Constant to time-varying parameters"
   ]
  },
  {
   "cell_type": "markdown",
   "id": "7e2f51fc",
   "metadata": {},
   "source": [
    "#### <u>Interest rates dynamics</u> $\\leadsto$ <span style=\"background:gray; color:white; padding: 2px 6px\">$t \\longmapsto \\theta(t)$ instead of $\\theta \\in \\mathbb{R}^+$</span>"
   ]
  },
  {
   "cell_type": "code",
   "execution_count": null,
   "id": "52556b93",
   "metadata": {},
   "outputs": [],
   "source": []
  },
  {
   "cell_type": "markdown",
   "id": "88cc32db",
   "metadata": {},
   "source": [
    "#### <u>Equity index dynamics</u> $\\leadsto$ <span style=\"background:gray; color:white; padding: 2px 6px\">$t \\longmapsto \\sigma(t)$ instead of $\\sigma \\in \\mathbb{R}^+$</span>"
   ]
  },
  {
   "cell_type": "code",
   "execution_count": null,
   "id": "63cefd22",
   "metadata": {},
   "outputs": [],
   "source": []
  },
  {
   "cell_type": "markdown",
   "id": "94e1e2e7",
   "metadata": {},
   "source": [
    "---\n",
    "**Amal BACHA - Dalia BARBI - Khalil BATTIKH - Lucas RODRIGUEZ - Naïm SOUNI**\n"
   ]
  }
 ],
 "metadata": {
  "kernelspec": {
   "display_name": "Python 3 (ipykernel)",
   "language": "python",
   "name": "python3"
  },
  "language_info": {
   "codemirror_mode": {
    "name": "ipython",
    "version": 3
   },
   "file_extension": ".py",
   "mimetype": "text/x-python",
   "name": "python",
   "nbconvert_exporter": "python",
   "pygments_lexer": "ipython3",
   "version": "3.10.6"
  },
  "toc": {
   "base_numbering": 1,
   "nav_menu": {},
   "number_sections": true,
   "sideBar": true,
   "skip_h1_title": false,
   "title_cell": "Table of Contents",
   "title_sidebar": "Contents",
   "toc_cell": false,
   "toc_position": {},
   "toc_section_display": true,
   "toc_window_display": true
  }
 },
 "nbformat": 4,
 "nbformat_minor": 5
}
